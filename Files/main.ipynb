{
 "cells": [
  {
   "cell_type": "code",
   "execution_count": 1,
   "id": "45839d13",
   "metadata": {},
   "outputs": [],
   "source": [
    "import pandas as pd\n",
    "import numpy as np\n",
    "import matplotlib.pyplot as plt\n",
    "import seaborn as sns\n",
    "import plotly.express as px\n",
    "from pytrends.request import TrendReq\n"
   ]
  },
  {
   "cell_type": "code",
   "execution_count": 2,
   "id": "6278f4a9",
   "metadata": {},
   "outputs": [
    {
     "data": {
      "text/html": [
       "<div>\n",
       "<style scoped>\n",
       "    .dataframe tbody tr th:only-of-type {\n",
       "        vertical-align: middle;\n",
       "    }\n",
       "\n",
       "    .dataframe tbody tr th {\n",
       "        vertical-align: top;\n",
       "    }\n",
       "\n",
       "    .dataframe thead th {\n",
       "        text-align: right;\n",
       "    }\n",
       "</style>\n",
       "<table border=\"1\" class=\"dataframe\">\n",
       "  <thead>\n",
       "    <tr style=\"text-align: right;\">\n",
       "      <th></th>\n",
       "      <th># ----------------------------------------</th>\n",
       "      <th>Unnamed: 1</th>\n",
       "      <th>Unnamed: 2</th>\n",
       "      <th>Unnamed: 3</th>\n",
       "      <th>Unnamed: 4</th>\n",
       "      <th>Unnamed: 5</th>\n",
       "      <th>Unnamed: 6</th>\n",
       "      <th>Unnamed: 7</th>\n",
       "      <th>Unnamed: 8</th>\n",
       "      <th>Unnamed: 9</th>\n",
       "    </tr>\n",
       "  </thead>\n",
       "  <tbody>\n",
       "    <tr>\n",
       "      <th>0</th>\n",
       "      <td>Session primary channel group (Default channel...</td>\n",
       "      <td>Date + hour (YYYYMMDDHH)</td>\n",
       "      <td>Users</td>\n",
       "      <td>Sessions</td>\n",
       "      <td>Engaged sessions</td>\n",
       "      <td>Average engagement time per session</td>\n",
       "      <td>Engaged sessions per user</td>\n",
       "      <td>Events per session</td>\n",
       "      <td>Engagement rate</td>\n",
       "      <td>Event count</td>\n",
       "    </tr>\n",
       "    <tr>\n",
       "      <th>1</th>\n",
       "      <td>Direct</td>\n",
       "      <td>2024041623</td>\n",
       "      <td>237</td>\n",
       "      <td>300</td>\n",
       "      <td>144</td>\n",
       "      <td>47.526666666666700</td>\n",
       "      <td>0.6075949367088610</td>\n",
       "      <td>4.673333333333330</td>\n",
       "      <td>0.48</td>\n",
       "      <td>1402</td>\n",
       "    </tr>\n",
       "    <tr>\n",
       "      <th>2</th>\n",
       "      <td>Organic Social</td>\n",
       "      <td>2024041719</td>\n",
       "      <td>208</td>\n",
       "      <td>267</td>\n",
       "      <td>132</td>\n",
       "      <td>32.09737827715360</td>\n",
       "      <td>0.6346153846153850</td>\n",
       "      <td>4.295880149812730</td>\n",
       "      <td>0.4943820224719100</td>\n",
       "      <td>1147</td>\n",
       "    </tr>\n",
       "    <tr>\n",
       "      <th>3</th>\n",
       "      <td>Direct</td>\n",
       "      <td>2024041723</td>\n",
       "      <td>188</td>\n",
       "      <td>233</td>\n",
       "      <td>115</td>\n",
       "      <td>39.93991416309010</td>\n",
       "      <td>0.6117021276595740</td>\n",
       "      <td>4.587982832618030</td>\n",
       "      <td>0.49356223175965700</td>\n",
       "      <td>1069</td>\n",
       "    </tr>\n",
       "    <tr>\n",
       "      <th>4</th>\n",
       "      <td>Organic Social</td>\n",
       "      <td>2024041718</td>\n",
       "      <td>187</td>\n",
       "      <td>256</td>\n",
       "      <td>125</td>\n",
       "      <td>32.16015625</td>\n",
       "      <td>0.6684491978609630</td>\n",
       "      <td>4.078125</td>\n",
       "      <td>0.48828125</td>\n",
       "      <td>1044</td>\n",
       "    </tr>\n",
       "  </tbody>\n",
       "</table>\n",
       "</div>"
      ],
      "text/plain": [
       "          # ----------------------------------------  \\\n",
       "0  Session primary channel group (Default channel...   \n",
       "1                                             Direct   \n",
       "2                                     Organic Social   \n",
       "3                                             Direct   \n",
       "4                                     Organic Social   \n",
       "\n",
       "                 Unnamed: 1 Unnamed: 2 Unnamed: 3        Unnamed: 4  \\\n",
       "0  Date + hour (YYYYMMDDHH)      Users   Sessions  Engaged sessions   \n",
       "1                2024041623        237        300               144   \n",
       "2                2024041719        208        267               132   \n",
       "3                2024041723        188        233               115   \n",
       "4                2024041718        187        256               125   \n",
       "\n",
       "                            Unnamed: 5                 Unnamed: 6  \\\n",
       "0  Average engagement time per session  Engaged sessions per user   \n",
       "1                   47.526666666666700         0.6075949367088610   \n",
       "2                    32.09737827715360         0.6346153846153850   \n",
       "3                    39.93991416309010         0.6117021276595740   \n",
       "4                          32.16015625         0.6684491978609630   \n",
       "\n",
       "           Unnamed: 7           Unnamed: 8   Unnamed: 9  \n",
       "0  Events per session      Engagement rate  Event count  \n",
       "1   4.673333333333330                 0.48         1402  \n",
       "2   4.295880149812730   0.4943820224719100         1147  \n",
       "3   4.587982832618030  0.49356223175965700         1069  \n",
       "4            4.078125           0.48828125         1044  "
      ]
     },
     "execution_count": 2,
     "metadata": {},
     "output_type": "execute_result"
    }
   ],
   "source": [
    "df = pd.read_csv(r'E:\\Google Data Analysis\\Files\\google_dataset.csv')\n",
    "df.head()"
   ]
  },
  {
   "cell_type": "code",
   "execution_count": 3,
   "id": "2a23e1a0",
   "metadata": {},
   "outputs": [
    {
     "data": {
      "text/plain": [
       "Index(['# ----------------------------------------', 'Unnamed: 1',\n",
       "       'Unnamed: 2', 'Unnamed: 3', 'Unnamed: 4', 'Unnamed: 5', 'Unnamed: 6',\n",
       "       'Unnamed: 7', 'Unnamed: 8', 'Unnamed: 9'],\n",
       "      dtype='object')"
      ]
     },
     "execution_count": 3,
     "metadata": {},
     "output_type": "execute_result"
    }
   ],
   "source": [
    "df.columns"
   ]
  },
  {
   "cell_type": "code",
   "execution_count": 4,
   "id": "7962a8b7",
   "metadata": {},
   "outputs": [
    {
     "name": "stdout",
     "output_type": "stream",
     "text": [
      "<class 'pandas.core.frame.DataFrame'>\n",
      "RangeIndex: 3183 entries, 0 to 3182\n",
      "Data columns (total 10 columns):\n",
      " #   Column                                      Non-Null Count  Dtype \n",
      "---  ------                                      --------------  ----- \n",
      " 0   # ----------------------------------------  3183 non-null   object\n",
      " 1   Unnamed: 1                                  3183 non-null   object\n",
      " 2   Unnamed: 2                                  3183 non-null   object\n",
      " 3   Unnamed: 3                                  3183 non-null   object\n",
      " 4   Unnamed: 4                                  3183 non-null   object\n",
      " 5   Unnamed: 5                                  3183 non-null   object\n",
      " 6   Unnamed: 6                                  3183 non-null   object\n",
      " 7   Unnamed: 7                                  3183 non-null   object\n",
      " 8   Unnamed: 8                                  3183 non-null   object\n",
      " 9   Unnamed: 9                                  3183 non-null   object\n",
      "dtypes: object(10)\n",
      "memory usage: 248.8+ KB\n"
     ]
    }
   ],
   "source": [
    "df.info()"
   ]
  },
  {
   "cell_type": "code",
   "execution_count": 5,
   "id": "4a703f0b",
   "metadata": {},
   "outputs": [
    {
     "data": {
      "text/plain": [
       "(3183, 10)"
      ]
     },
     "execution_count": 5,
     "metadata": {},
     "output_type": "execute_result"
    }
   ],
   "source": [
    "df.shape"
   ]
  },
  {
   "cell_type": "code",
   "execution_count": 6,
   "id": "1221b07d",
   "metadata": {},
   "outputs": [
    {
     "data": {
      "text/plain": [
       "# ----------------------------------------       8\n",
       "Unnamed: 1                                     673\n",
       "Unnamed: 2                                     148\n",
       "Unnamed: 3                                     181\n",
       "Unnamed: 4                                     104\n",
       "Unnamed: 5                                    2824\n",
       "Unnamed: 6                                     809\n",
       "Unnamed: 7                                    2026\n",
       "Unnamed: 8                                     987\n",
       "Unnamed: 9                                     679\n",
       "dtype: int64"
      ]
     },
     "execution_count": 6,
     "metadata": {},
     "output_type": "execute_result"
    }
   ],
   "source": [
    "df.nunique() #Checking for unique values in each column"
   ]
  },
  {
   "cell_type": "code",
   "execution_count": 7,
   "id": "cc6b0390",
   "metadata": {},
   "outputs": [
    {
     "data": {
      "text/plain": [
       "<Axes: >"
      ]
     },
     "execution_count": 7,
     "metadata": {},
     "output_type": "execute_result"
    },
    {
     "data": {
      "image/png": "[encoded data removed]",
      "text/plain": [
       "<Figure size 800x100 with 1 Axes>"
      ]
     },
     "metadata": {},
     "output_type": "display_data"
    }
   ],
   "source": [
    "df.isnull().sum().plot(kind=\"bar\", figsize=(8,1)) #Checking null values\n",
    "#No null values found"
   ]
  },
  {
   "cell_type": "markdown",
   "id": "9e5c3f83",
   "metadata": {},
   "source": [
    "## Q-1 : Write a Code to in which by just changing the keyword we can search for multiple things."
   ]
  },
  {
   "cell_type": "code",
   "execution_count": 8,
   "id": "17708762",
   "metadata": {},
   "outputs": [],
   "source": [
    "# Setup Pytrends library to connect to Google\n",
    "pytrends = TrendReq(hl='en-US', tz=360)\n",
    "keyword = \"cloud computing\""
   ]
  },
  {
   "cell_type": "code",
   "execution_count": 9,
   "id": "e923bb47",
   "metadata": {},
   "outputs": [
    {
     "name": "stderr",
     "output_type": "stream",
     "text": [
      "c:\\Users\\HP\\AppData\\Local\\Programs\\Python\\Python310\\lib\\site-packages\\pytrends\\request.py:260: FutureWarning: Downcasting object dtype arrays on .fillna, .ffill, .bfill is deprecated and will change in a future version. Call result.infer_objects(copy=False) instead. To opt-in to the future behavior, set `pd.set_option('future.no_silent_downcasting', True)`\n",
      "  df = df.fillna(False)\n"
     ]
    },
    {
     "data": {
      "text/html": [
       "<div>\n",
       "<style scoped>\n",
       "    .dataframe tbody tr th:only-of-type {\n",
       "        vertical-align: middle;\n",
       "    }\n",
       "\n",
       "    .dataframe tbody tr th {\n",
       "        vertical-align: top;\n",
       "    }\n",
       "\n",
       "    .dataframe thead th {\n",
       "        text-align: right;\n",
       "    }\n",
       "</style>\n",
       "<table border=\"1\" class=\"dataframe\">\n",
       "  <thead>\n",
       "    <tr style=\"text-align: right;\">\n",
       "      <th></th>\n",
       "      <th>date</th>\n",
       "      <th>cloud computing</th>\n",
       "      <th>isPartial</th>\n",
       "    </tr>\n",
       "  </thead>\n",
       "  <tbody>\n",
       "    <tr>\n",
       "      <th>0</th>\n",
       "      <td>2024-09-15</td>\n",
       "      <td>56</td>\n",
       "      <td>False</td>\n",
       "    </tr>\n",
       "    <tr>\n",
       "      <th>1</th>\n",
       "      <td>2024-09-22</td>\n",
       "      <td>61</td>\n",
       "      <td>False</td>\n",
       "    </tr>\n",
       "    <tr>\n",
       "      <th>2</th>\n",
       "      <td>2024-09-29</td>\n",
       "      <td>51</td>\n",
       "      <td>False</td>\n",
       "    </tr>\n",
       "    <tr>\n",
       "      <th>3</th>\n",
       "      <td>2024-10-06</td>\n",
       "      <td>53</td>\n",
       "      <td>False</td>\n",
       "    </tr>\n",
       "    <tr>\n",
       "      <th>4</th>\n",
       "      <td>2024-10-13</td>\n",
       "      <td>57</td>\n",
       "      <td>False</td>\n",
       "    </tr>\n",
       "  </tbody>\n",
       "</table>\n",
       "</div>"
      ],
      "text/plain": [
       "        date  cloud computing  isPartial\n",
       "0 2024-09-15               56      False\n",
       "1 2024-09-22               61      False\n",
       "2 2024-09-29               51      False\n",
       "3 2024-10-06               53      False\n",
       "4 2024-10-13               57      False"
      ]
     },
     "execution_count": 9,
     "metadata": {},
     "output_type": "execute_result"
    }
   ],
   "source": [
    "# Requesting data for the keyword\n",
    "# pytrends.build_payload(kw_list=[keyword], timeframe='all')\n",
    "pytrends.build_payload([keyword], cat=0, timeframe='today 12-m', geo='', gprop='')\n",
    "data = pytrends.interest_over_time()\n",
    "data.reset_index(inplace=True)\n",
    "data.head()"
   ]
  },
  {
   "cell_type": "markdown",
   "id": "2ba83426",
   "metadata": {},
   "source": [
    "# Q-2 : Create a Visualization Chart for Top 15 Countries where the keywords are searched the most."
   ]
  },
  {
   "cell_type": "code",
   "execution_count": 10,
   "id": "1da90068",
   "metadata": {},
   "outputs": [
    {
     "name": "stdout",
     "output_type": "stream",
     "text": [
      "            cloud computing\n",
      "geoName                    \n",
      "Nepal                   100\n",
      "St. Helena               89\n",
      "Lesotho                  79\n",
      "India                    72\n",
      "Zimbabwe                 65\n",
      "Ethiopia                 63\n",
      "Botswana                 56\n",
      "Ghana                    55\n",
      "Kenya                    51\n",
      "Sri Lanka                51\n",
      "Cameroon                 49\n",
      "Eswatini                 48\n",
      "Liberia                  44\n",
      "Rwanda                   44\n",
      "Burundi                  43\n"
     ]
    }
   ],
   "source": [
    "#Country Wise \n",
    "country_data = pytrends.interest_by_region(resolution='COUNTRY', inc_low_vol=True, inc_geo_code=False)\n",
    "country_data = country_data.sort_values(by=keyword, ascending=False).head(15)\n",
    "print(country_data)\n"
   ]
  },
  {
   "cell_type": "code",
   "execution_count": 11,
   "id": "bdf00179",
   "metadata": {},
   "outputs": [
    {
     "data": {
      "image/png": "[encoded data removed]",
      "text/plain": [
       "<Figure size 1000x600 with 1 Axes>"
      ]
     },
     "metadata": {},
     "output_type": "display_data"
    }
   ],
   "source": [
    "plt.figure(figsize=(10,6))\n",
    "sns.barplot(x = country_data[keyword], y = country_data.index,  hue=country_data[keyword],palette=\"viridis\", dodge=False)\n",
    "plt.title(f'Top 15 Countries for {keyword}', fontsize=16)\n",
    "plt.xlabel('Interest', fontsize=14)\n",
    "plt.ylabel('Country', fontsize=14)\n",
    "plt.show()"
   ]
  },
  {
   "cell_type": "markdown",
   "id": "3422b869",
   "metadata": {},
   "source": [
    "# Q3 : Create a world map that needs to be plotted showing the countries that search the keyword the most. "
   ]
  },
  {
   "cell_type": "code",
   "execution_count": null,
   "id": "5519210a",
   "metadata": {},
   "outputs": [],
   "source": []
  }
 ],
 "metadata": {
  "kernelspec": {
   "display_name": "Python 3",
   "language": "python",
   "name": "python3"
  },
  "language_info": {
   "codemirror_mode": {
    "name": "ipython",
    "version": 3
   },
   "file_extension": ".py",
   "mimetype": "text/x-python",
   "name": "python",
   "nbconvert_exporter": "python",
   "pygments_lexer": "ipython3",
   "version": "3.10.0"
  }
 },
 "nbformat": 4,
 "nbformat_minor": 5
}
